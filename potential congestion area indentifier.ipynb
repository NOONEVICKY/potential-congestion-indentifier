{
 "cells": [
  {
   "cell_type": "code",
   "execution_count": 3,
   "id": "bd73011f",
   "metadata": {},
   "outputs": [
    {
     "name": "stdout",
     "output_type": "stream",
     "text": [
      "Potential congestion areas:\n",
      "Latitude: 39.630300000000005, Longitude: -91.877325, Altitude: 150.0\n"
     ]
    }
   ],
   "source": [
    "import numpy as np\n",
    "from sklearn.cluster import KMeans\n",
    "\n",
    "\n",
    "# Define dummy flight plan waypoints (latitude, longitude, altitude)\n",
    "flight_plan_1 = np.array([[40.7128, -74.0060, 100],\n",
    "                          [41.8781, -87.6298, 200],\n",
    "                          [34.0522, -118.2437, 300]])\n",
    "\n",
    "flight_plan_2 = np.array([[34.0522, -118.2437, 100],\n",
    "                          [41.8781, -87.6298, 200],\n",
    "                          [40.7128, -74.0060, 300]])\n",
    "\n",
    "# Combine all flight plans into a single array\n",
    "waypoints = np.concatenate((flight_plan_1, flight_plan_2))\n",
    "\n",
    "# Use K-Means to cluster the waypoints\n",
    "kmeans = KMeans(n_clusters=2).fit(waypoints)\n",
    "\n",
    "# Get the cluster centers and counts\n",
    "cluster_centers = kmeans.cluster_centers_\n",
    "cluster_counts = np.bincount(kmeans.labels_)\n",
    "\n",
    "# Identify potential congestion areas\n",
    "congestion_areas = []\n",
    "for i in range(len(cluster_centers)):\n",
    "    if cluster_counts[i] > np.percentile(cluster_counts, 25):\n",
    "        congestion_areas.append(cluster_centers[i])\n",
    "\n",
    "# Print the congestion areas\n",
    "print(\"Potential congestion areas:\")\n",
    "for area in congestion_areas:\n",
    "    print(f\"Latitude: {area[0]}, Longitude: {area[1]}, Altitude: {area[2]}\")\n"
   ]
  },
  {
   "cell_type": "code",
   "execution_count": null,
   "id": "2a6b22ee",
   "metadata": {},
   "outputs": [],
   "source": []
  }
 ],
 "metadata": {
  "kernelspec": {
   "display_name": "Python 3 (ipykernel)",
   "language": "python",
   "name": "python3"
  },
  "language_info": {
   "codemirror_mode": {
    "name": "ipython",
    "version": 3
   },
   "file_extension": ".py",
   "mimetype": "text/x-python",
   "name": "python",
   "nbconvert_exporter": "python",
   "pygments_lexer": "ipython3",
   "version": "3.9.13"
  }
 },
 "nbformat": 4,
 "nbformat_minor": 5
}
